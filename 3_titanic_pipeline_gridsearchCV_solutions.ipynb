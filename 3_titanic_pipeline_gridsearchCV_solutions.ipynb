{
 "cells": [
  {
   "cell_type": "markdown",
   "metadata": {
    "id": "qXFGScYJv0zO"
   },
   "source": [
    "# Titanic 3: Creating a Pipeline and tuning the model with Grid Search Cross Validation"
   ]
  },
  {
   "cell_type": "markdown",
   "metadata": {
    "id": "hvblkIsDwBlI"
   },
   "source": [
    "## 1. Data reading and preprocessing\n",
    "\n",
    "We will first review everything we did in the previous notebook."
   ]
  },
  {
   "cell_type": "code",
   "execution_count": null,
   "metadata": {
    "id": "fgUcuPKovu5T"
   },
   "outputs": [],
   "source": [
    "import pandas as pd\n",
    "\n",
    "url = \"https://drive.google.com/file/d/1g3uhw_y3tboRm2eYDPfUzXXsw8IOYDCy/view?usp=sharing\"\n",
    "path = 'https://drive.google.com/uc?export=download&id='+url.split('/')[-2]\n",
    "\n",
    "data = pd.read_csv(path)"
   ]
  },
  {
   "cell_type": "markdown",
   "metadata": {
    "id": "57d0l4uEvu5W"
   },
   "source": [
    "### 1.1. Setting X and y\n",
    "\n",
    "- **X**: columns that help us make a prediction.\n",
    "- **y**: the column that we want to predict."
   ]
  },
  {
   "cell_type": "code",
   "execution_count": null,
   "metadata": {
    "id": "3rX2vgy5vu5Y"
   },
   "outputs": [],
   "source": [
    "X = data.drop(columns=[\"PassengerId\", \"Name\", \"Ticket\"])\n",
    "y = X.pop(\"Survived\")"
   ]
  },
  {
   "cell_type": "markdown",
   "metadata": {
    "id": "9kP78izKvu5Y"
   },
   "source": [
    "### 1.2. Feature Selection: keeping only numerical features\n",
    "\n",
    "Scikit-Learn models cannot deal with categorical features"
   ]
  },
  {
   "cell_type": "code",
   "execution_count": null,
   "metadata": {
    "id": "JgVzbmBGvu5Z"
   },
   "outputs": [],
   "source": [
    "X_num = X.select_dtypes(include=\"number\")"
   ]
  },
  {
   "cell_type": "markdown",
   "metadata": {
    "id": "IDfzSb5hvu5Z"
   },
   "source": [
    "### 1.3. Data splitting"
   ]
  },
  {
   "cell_type": "code",
   "execution_count": null,
   "metadata": {
    "id": "ul_C6DXMvu5a"
   },
   "outputs": [],
   "source": [
    "from sklearn.model_selection import train_test_split\n",
    "\n",
    "X_num_train, X_num_test, y_train, y_test = train_test_split(X_num, \n",
    "                                                            y, \n",
    "                                                            test_size=0.2, \n",
    "                                                            random_state=123)"
   ]
  },
  {
   "cell_type": "markdown",
   "metadata": {
    "id": "x9RPgKLhvu5b"
   },
   "source": [
    "### 1.4. Imputing missing values\n",
    "\n",
    "(Fit on train, transform train & test)"
   ]
  },
  {
   "cell_type": "code",
   "execution_count": null,
   "metadata": {
    "id": "a6KZkxN3vu5b"
   },
   "outputs": [],
   "source": [
    "from sklearn.impute import SimpleImputer\n",
    "\n",
    "my_imputer = SimpleImputer() # initialize\n",
    "my_imputer.fit(X_num_train) # fit on the train set\n",
    "X_num_imputed_train = my_imputer.transform(X_num_train) # transform the train set\n",
    "X_num_imputed_test = my_imputer.transform(X_num_test) # transform the test set"
   ]
  },
  {
   "cell_type": "markdown",
   "metadata": {
    "id": "g0QFXBvGvu5c"
   },
   "source": [
    "### 1.5. Modelling: Decision Tree\n",
    "\n",
    "https://scikit-learn.org/stable/modules/generated/sklearn.tree.DecisionTreeClassifier.html"
   ]
  },
  {
   "cell_type": "code",
   "execution_count": null,
   "metadata": {
    "colab": {
     "base_uri": "https://localhost:8080/"
    },
    "id": "oZmmxJ63vu5d",
    "outputId": "b7cf5a2c-669a-4071-8fa9-c2e33b576b16"
   },
   "outputs": [
    {
     "data": {
      "text/plain": [
       "DecisionTreeClassifier(max_depth=4, min_samples_leaf=10)"
      ]
     },
     "execution_count": 9,
     "metadata": {},
     "output_type": "execute_result"
    }
   ],
   "source": [
    "# 1. import the model\n",
    "from sklearn.tree import DecisionTreeClassifier \n",
    "\n",
    "# 2. initialize the model\n",
    "my_tree = DecisionTreeClassifier(max_depth=4,\n",
    "                                 min_samples_leaf=10\n",
    "                                )\n",
    "\n",
    "# 3. fit the model to the train data\n",
    "my_tree.fit(X = X_num_imputed_train, \n",
    "            y = y_train)"
   ]
  },
  {
   "cell_type": "markdown",
   "metadata": {
    "id": "mySTGdw_vu5d"
   },
   "source": [
    "### 1.6. Check accuracy on the train set"
   ]
  },
  {
   "cell_type": "code",
   "execution_count": null,
   "metadata": {
    "colab": {
     "base_uri": "https://localhost:8080/"
    },
    "id": "kfa0Aoi6vu5e",
    "outputId": "124a45d3-4b87-4760-807c-7dc243c432d5"
   },
   "outputs": [
    {
     "data": {
      "text/plain": [
       "0.7191011235955056"
      ]
     },
     "execution_count": 10,
     "metadata": {},
     "output_type": "execute_result"
    }
   ],
   "source": [
    "from sklearn.metrics import accuracy_score\n",
    "\n",
    "y_pred_tree_train = my_tree.predict(X_num_imputed_train)\n",
    "\n",
    "accuracy_score(y_true = y_train,\n",
    "               y_pred = y_pred_tree_train)"
   ]
  },
  {
   "cell_type": "markdown",
   "metadata": {
    "id": "uAUerP3Gvu5e"
   },
   "source": [
    "### 1.7. Check accuracy on the test set"
   ]
  },
  {
   "cell_type": "code",
   "execution_count": null,
   "metadata": {
    "colab": {
     "base_uri": "https://localhost:8080/"
    },
    "id": "P3DZqJnnvu5e",
    "outputId": "12fd85fa-a95d-4f77-d7d2-7c2518ab35f1"
   },
   "outputs": [
    {
     "data": {
      "text/plain": [
       "0.7541899441340782"
      ]
     },
     "execution_count": 11,
     "metadata": {},
     "output_type": "execute_result"
    }
   ],
   "source": [
    "y_pred_tree_test = my_tree.predict(X_num_imputed_test)\n",
    "\n",
    "accuracy_score(y_true = y_test,\n",
    "               y_pred = y_pred_tree_test)"
   ]
  },
  {
   "cell_type": "markdown",
   "metadata": {
    "id": "Rm08l1JBvu5h"
   },
   "source": [
    "## 2. Creating a Pipeline\n",
    "\n",
    "Before moving forward in our quest to improve the model, take a moment to learn how to use Scikit-Learn Pipelines. They will not increase your performance, but they are a necessary tool to compress all the steps in the data preparation + modelling phases into a single one, and this will become very relevant as we move forward and keep adding new steps:\n",
    "\n",
    "* Read the lesson \"Scikit-Learn Pipelines\" on the platform.\n",
    "\n",
    "* Check the docs: https://scikit-learn.org/stable/modules/generated/sklearn.pipeline.make_pipeline.html"
   ]
  },
  {
   "cell_type": "code",
   "execution_count": null,
   "metadata": {
    "colab": {
     "base_uri": "https://localhost:8080/"
    },
    "id": "kdkaTOjYvu5h",
    "outputId": "9afcbceb-49f8-43f8-812f-48c91077c344"
   },
   "outputs": [
    {
     "data": {
      "text/plain": [
       "array([1, 0, 1, 0, 0, 0, 1, 1, 0, 0, 0, 0, 1, 0, 0, 1, 1, 1, 0, 1, 0, 1,\n",
       "       0, 1, 1, 0, 0, 1, 0, 0, 1, 1, 0, 0, 1, 0, 0, 0, 0, 1, 1, 0, 0, 0,\n",
       "       0, 0, 1, 1, 0, 1, 0, 1, 0, 0, 0, 0, 0, 0, 1, 0, 1, 1, 1, 1, 0, 0,\n",
       "       0, 0, 1, 0, 1, 0, 1, 0, 0, 0, 0, 0, 1, 1, 0, 0, 0, 0, 0, 0, 1, 0,\n",
       "       1, 0, 0, 1, 0, 1, 1, 0, 1, 1, 0, 1, 1, 1, 0, 0, 0, 1, 0, 0, 0, 0,\n",
       "       1, 1, 1, 0, 0, 0, 0, 0, 0, 1, 0, 0, 1, 0, 1, 0, 0, 1, 0, 0, 0, 0,\n",
       "       0, 1, 0, 0, 1, 0, 0, 1, 0, 1, 0, 1, 1, 0, 0, 0, 0, 1, 0, 0, 0, 0,\n",
       "       1, 0, 0, 1, 0, 0, 0, 0, 1, 1, 0, 1, 0, 0, 0, 0, 0, 1, 0, 1, 0, 0,\n",
       "       1, 0, 0])"
      ]
     },
     "execution_count": 13,
     "metadata": {},
     "output_type": "execute_result"
    }
   ],
   "source": [
    "from sklearn.impute import SimpleImputer\n",
    "from sklearn.tree import DecisionTreeClassifier\n",
    "from sklearn.pipeline import make_pipeline\n",
    "\n",
    "# 1. initialize transformers &amp; model\n",
    "imputer = SimpleImputer(strategy=\"median\")\n",
    "dtree = DecisionTreeClassifier(max_depth=4,\n",
    "                               min_samples_leaf=10)\n",
    " \n",
    "# 2. Create a pipeline*\n",
    "pipe = make_pipeline(imputer, dtree)\n",
    " \n",
    "# 3. Fit the pipeline to the training data\n",
    "pipe.fit(X_num_train, y_train)\n",
    " \n",
    "# 4. Use the pipeline to make predictions\n",
    "pipe.predict(X_num_test)"
   ]
  },
  {
   "cell_type": "markdown",
   "metadata": {
    "id": "oXN7nfdoa6IT"
   },
   "source": [
    "Now, the object `pipie` can take (almost) raw data as input and output predictions. We no longer need to impute missing values and use the model to make predictions in separate steps."
   ]
  },
  {
   "cell_type": "markdown",
   "metadata": {
    "id": "EuOESLyyvu5i"
   },
   "source": [
    "## 3. Using GridsearchCV to find the best parameters\n",
    "\n",
    "So far, we tuned the hyperparameters of the decision tree manually. This is not ideal, for two reasons:\n",
    "\n",
    "- It's not efficient in terms of quickly finding the best combination of parameters.\n",
    "- If we keep checking the performance on the test set over and over again, we might end up creating a model that fits that particular test set, but does not generalize as well with new data. Test sets are meant to reamain unseen until the very last moment of ML development —we have been cheating a bit!\n",
    "\n",
    "Grid Search Cross Validation solves both issues:\n",
    "\n",
    "* Read the lesson \"Housing Prices: Iteration 2, Grid Search & Cross Validation\" on the platform.\n",
    "\n",
    "* Check the docs: https://scikit-learn.org/stable/modules/generated/sklearn.model_selection.GridSearchCV.html"
   ]
  },
  {
   "cell_type": "code",
   "execution_count": null,
   "metadata": {
    "id": "W7awfF-qvu5i"
   },
   "outputs": [],
   "source": [
    "# 1. initialize transformers &amp; model\n",
    "imputer = SimpleImputer()\n",
    "dtree = DecisionTreeClassifier()\n",
    " \n",
    "# 2. Create a pipeline*\n",
    "pipe = make_pipeline(imputer, dtree)\n",
    "\n",
    "param_grid = {\n",
    "    'decisiontreeclassifier__max_depth': range(2, 12),\n",
    "    'decisiontreeclassifier__min_samples_leaf': range(3, 10, 2),\n",
    "    'decisiontreeclassifier__min_samples_split': range(3, 40, 5),\n",
    "    'decisiontreeclassifier__criterion':['gini', 'entropy']\n",
    "    }\n",
    "    \n",
    "from sklearn.model_selection import GridSearchCV\n",
    " \n",
    "search = GridSearchCV(pipe, # you have defined this beforehand\n",
    "                      param_grid, # your parameter grid\n",
    "                      cv=5, # the value for K in K-fold Cross Validation\n",
    "                      scoring='accuracy', # the performance metric to use, \n",
    "                      verbose=1) # we want informative outputs during the training process"
   ]
  },
  {
   "cell_type": "code",
   "execution_count": null,
   "metadata": {
    "colab": {
     "base_uri": "https://localhost:8080/"
    },
    "id": "aHJ_JHWEvu5i",
    "outputId": "e8b7dbdc-dbeb-4ab9-bc4e-439513d48155"
   },
   "outputs": [
    {
     "name": "stdout",
     "output_type": "stream",
     "text": [
      "Fitting 5 folds for each of 640 candidates, totalling 3200 fits\n"
     ]
    },
    {
     "data": {
      "text/plain": [
       "GridSearchCV(cv=5,\n",
       "             estimator=Pipeline(steps=[('simpleimputer', SimpleImputer()),\n",
       "                                       ('decisiontreeclassifier',\n",
       "                                        DecisionTreeClassifier())]),\n",
       "             param_grid={'decisiontreeclassifier__criterion': ['gini',\n",
       "                                                               'entropy'],\n",
       "                         'decisiontreeclassifier__max_depth': range(2, 12),\n",
       "                         'decisiontreeclassifier__min_samples_leaf': range(3, 10, 2),\n",
       "                         'decisiontreeclassifier__min_samples_split': range(3, 40, 5)},\n",
       "             scoring='accuracy', verbose=1)"
      ]
     },
     "execution_count": 22,
     "metadata": {},
     "output_type": "execute_result"
    }
   ],
   "source": [
    "search.fit(X_num_imputed_train, y_train)"
   ]
  },
  {
   "cell_type": "code",
   "execution_count": null,
   "metadata": {
    "colab": {
     "base_uri": "https://localhost:8080/"
    },
    "id": "UhJHlajCvu5i",
    "outputId": "d8325739-ed74-4d17-f10b-8e3a0c493e7c"
   },
   "outputs": [
    {
     "data": {
      "text/plain": [
       "{'decisiontreeclassifier__criterion': 'gini',\n",
       " 'decisiontreeclassifier__max_depth': 7,\n",
       " 'decisiontreeclassifier__min_samples_leaf': 3,\n",
       " 'decisiontreeclassifier__min_samples_split': 8}"
      ]
     },
     "execution_count": 23,
     "metadata": {},
     "output_type": "execute_result"
    }
   ],
   "source": [
    "search.best_params_"
   ]
  },
  {
   "cell_type": "code",
   "execution_count": null,
   "metadata": {
    "colab": {
     "base_uri": "https://localhost:8080/"
    },
    "id": "UzXybXmDvu5i",
    "outputId": "32647d36-82e8-4f8d-d86e-68fe04321819"
   },
   "outputs": [
    {
     "data": {
      "text/plain": [
       "0.7036737909977346"
      ]
     },
     "execution_count": 24,
     "metadata": {},
     "output_type": "execute_result"
    }
   ],
   "source": [
    "search.best_score_"
   ]
  },
  {
   "cell_type": "markdown",
   "metadata": {
    "id": "U5zAyC8_Uwpz"
   },
   "source": [
    "## **Your challenge**\n",
    "\n",
    "In a new notebook, apply everything you have learned here to the Housing project, following the Learning platform when needed."
   ]
  },
  {
   "cell_type": "code",
   "execution_count": null,
   "metadata": {
    "id": "3PMad0HLXeZO"
   },
   "outputs": [],
   "source": []
  }
 ],
 "metadata": {
  "colab": {
   "name": "3-titanic-pipeline-gridsearchCV-solutions.ipynb",
   "provenance": []
  },
  "kernelspec": {
   "display_name": "Python 3 (ipykernel)",
   "language": "python",
   "name": "python3"
  },
  "language_info": {
   "codemirror_mode": {
    "name": "ipython",
    "version": 3
   },
   "file_extension": ".py",
   "mimetype": "text/x-python",
   "name": "python",
   "nbconvert_exporter": "python",
   "pygments_lexer": "ipython3",
   "version": "3.9.12"
  }
 },
 "nbformat": 4,
 "nbformat_minor": 1
}
