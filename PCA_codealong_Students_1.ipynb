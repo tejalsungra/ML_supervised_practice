{
  "cells": [
    {
      "cell_type": "markdown",
      "metadata": {
        "id": "Vp1kTOFrEWdm"
      },
      "source": [
        "# Codealong: PCA, Pipelines & Model persistance"
      ]
    },
    {
      "cell_type": "markdown",
      "source": [
        "PCA technique is particularly useful in processing data where multi-colinearity exists between the features/variables. "
      ],
      "metadata": {
        "id": "DKo8O-B7sL6_"
      }
    },
    {
      "cell_type": "code",
      "execution_count": null,
      "metadata": {
        "id": "EnDgorMeEWdo"
      },
      "outputs": [],
      "source": [
        "import numpy as np\n",
        "import pandas as pd\n",
        "import matplotlib.pyplot as plt"
      ]
    },
    {
      "cell_type": "markdown",
      "source": [
        "# Create dataset (500 columns)"
      ],
      "metadata": {
        "id": "uXXLvoENA4z_"
      }
    },
    {
      "cell_type": "code",
      "source": [
        "np.random.seed(123) \n",
        "\n",
        "scale_values = np.logspace(1, 5, num=500)\n",
        "\n",
        "\n",
        "# Build a classification task using n informative features\n",
        "X, y = make_classification(n_samples=5000, n_features=500, n_informative=280,\n",
        "                           n_redundant=180, n_repeated=3, n_classes=6, flip_y=0.1,\n",
        "                           weights=[0.1, 0.2, 0.15, 0.25, 0.05], n_clusters_per_class=1, \n",
        "                           scale = scale_values, random_state=42)\n",
        "X = pd.DataFrame(X)\n",
        "y = pd.DataFrame(y)\n",
        "\n",
        "X = X.add_prefix(\"feature_\")\n",
        "y.rename(columns={0:\"label\"}, inplace=True)\n",
        "\n",
        "codealong_df = pd.concat([X, y], axis=1)"
      ],
      "metadata": {
        "id": "vH9bSotabZhe"
      },
      "execution_count": null,
      "outputs": []
    },
    {
      "cell_type": "code",
      "source": [
        "codealong_df.head()"
      ],
      "metadata": {
        "colab": {
          "base_uri": "https://localhost:8080/",
          "height": 300
        },
        "id": "S5QI-stQjxUs",
        "outputId": "3a9b15f4-6b7b-43cc-8568-75789296aea7"
      },
      "execution_count": null,
      "outputs": [
        {
          "output_type": "execute_result",
          "data": {
            "text/plain": [
              "    feature_0   feature_1    feature_2    feature_3   feature_4     feature_5  \\\n",
              "0  546.461786  183.133455 -1150.019904  5298.050018    7.500523 -12686.970903   \n",
              "1  115.181234  -29.869580   795.332340  8244.577935  -64.074786 -19420.478839   \n",
              "2 -147.513125  281.080058 -1222.085313 -6849.251819  -55.386172   3319.185198   \n",
              "3   91.062226  -87.201281   -83.549423  -177.823199 -144.197687 -16616.398077   \n",
              "4 -222.887856 -128.185634 -1054.410539 -4039.340623  113.384258   -100.535098   \n",
              "\n",
              "    feature_6     feature_7   feature_8     feature_9  ...    feature_491  \\\n",
              "0 -112.493055  -6454.026044  531.516576   8286.286189  ...   84825.221561   \n",
              "1 -238.176417   3647.286876  182.115829  20722.386033  ... -114272.011298   \n",
              "2 -327.471273  12314.675892   -5.609710  14339.872593  ...  887342.520120   \n",
              "3   30.904988   -994.430982 -418.581383   2179.844249  ... -286938.774096   \n",
              "4 -225.664434  -4691.428044 -212.522834 -25966.053643  ...  338399.469401   \n",
              "\n",
              "    feature_492    feature_493  feature_494   feature_495  feature_496  \\\n",
              "0  9.113082e+04  250071.359242 -2179.913994  1.735737e+06  -682.006209   \n",
              "1  8.881889e+05  937548.602218  5918.908160  3.744031e+06    39.411762   \n",
              "2 -4.062938e+05 -248168.834620 -7958.639803 -4.361475e+06  -257.724275   \n",
              "3 -2.493297e+06  -58026.544280  7673.429635 -3.175762e+05  1339.701934   \n",
              "4 -3.899652e+06  501438.458669  1375.408163 -4.624358e+06  -977.193223   \n",
              "\n",
              "    feature_497   feature_498  feature_499  label  \n",
              "0  5.650028e+05  77440.968239   141.732437      0  \n",
              "1 -2.249651e+06 -67770.592700  -585.884028      5  \n",
              "2  3.107987e+05  50104.604844  -225.926753      5  \n",
              "3 -4.014052e+05   9414.605559   510.005904      2  \n",
              "4  7.671711e+05   3707.134463   378.345297      3  \n",
              "\n",
              "[5 rows x 501 columns]"
            ],
            "text/html": [
              "\n",
              "  <div id=\"df-8e57cd72-1295-4c82-b6b1-cc3c7cd2c61a\">\n",
              "    <div class=\"colab-df-container\">\n",
              "      <div>\n",
              "<style scoped>\n",
              "    .dataframe tbody tr th:only-of-type {\n",
              "        vertical-align: middle;\n",
              "    }\n",
              "\n",
              "    .dataframe tbody tr th {\n",
              "        vertical-align: top;\n",
              "    }\n",
              "\n",
              "    .dataframe thead th {\n",
              "        text-align: right;\n",
              "    }\n",
              "</style>\n",
              "<table border=\"1\" class=\"dataframe\">\n",
              "  <thead>\n",
              "    <tr style=\"text-align: right;\">\n",
              "      <th></th>\n",
              "      <th>feature_0</th>\n",
              "      <th>feature_1</th>\n",
              "      <th>feature_2</th>\n",
              "      <th>feature_3</th>\n",
              "      <th>feature_4</th>\n",
              "      <th>feature_5</th>\n",
              "      <th>feature_6</th>\n",
              "      <th>feature_7</th>\n",
              "      <th>feature_8</th>\n",
              "      <th>feature_9</th>\n",
              "      <th>...</th>\n",
              "      <th>feature_491</th>\n",
              "      <th>feature_492</th>\n",
              "      <th>feature_493</th>\n",
              "      <th>feature_494</th>\n",
              "      <th>feature_495</th>\n",
              "      <th>feature_496</th>\n",
              "      <th>feature_497</th>\n",
              "      <th>feature_498</th>\n",
              "      <th>feature_499</th>\n",
              "      <th>label</th>\n",
              "    </tr>\n",
              "  </thead>\n",
              "  <tbody>\n",
              "    <tr>\n",
              "      <th>0</th>\n",
              "      <td>546.461786</td>\n",
              "      <td>183.133455</td>\n",
              "      <td>-1150.019904</td>\n",
              "      <td>5298.050018</td>\n",
              "      <td>7.500523</td>\n",
              "      <td>-12686.970903</td>\n",
              "      <td>-112.493055</td>\n",
              "      <td>-6454.026044</td>\n",
              "      <td>531.516576</td>\n",
              "      <td>8286.286189</td>\n",
              "      <td>...</td>\n",
              "      <td>84825.221561</td>\n",
              "      <td>9.113082e+04</td>\n",
              "      <td>250071.359242</td>\n",
              "      <td>-2179.913994</td>\n",
              "      <td>1.735737e+06</td>\n",
              "      <td>-682.006209</td>\n",
              "      <td>5.650028e+05</td>\n",
              "      <td>77440.968239</td>\n",
              "      <td>141.732437</td>\n",
              "      <td>0</td>\n",
              "    </tr>\n",
              "    <tr>\n",
              "      <th>1</th>\n",
              "      <td>115.181234</td>\n",
              "      <td>-29.869580</td>\n",
              "      <td>795.332340</td>\n",
              "      <td>8244.577935</td>\n",
              "      <td>-64.074786</td>\n",
              "      <td>-19420.478839</td>\n",
              "      <td>-238.176417</td>\n",
              "      <td>3647.286876</td>\n",
              "      <td>182.115829</td>\n",
              "      <td>20722.386033</td>\n",
              "      <td>...</td>\n",
              "      <td>-114272.011298</td>\n",
              "      <td>8.881889e+05</td>\n",
              "      <td>937548.602218</td>\n",
              "      <td>5918.908160</td>\n",
              "      <td>3.744031e+06</td>\n",
              "      <td>39.411762</td>\n",
              "      <td>-2.249651e+06</td>\n",
              "      <td>-67770.592700</td>\n",
              "      <td>-585.884028</td>\n",
              "      <td>5</td>\n",
              "    </tr>\n",
              "    <tr>\n",
              "      <th>2</th>\n",
              "      <td>-147.513125</td>\n",
              "      <td>281.080058</td>\n",
              "      <td>-1222.085313</td>\n",
              "      <td>-6849.251819</td>\n",
              "      <td>-55.386172</td>\n",
              "      <td>3319.185198</td>\n",
              "      <td>-327.471273</td>\n",
              "      <td>12314.675892</td>\n",
              "      <td>-5.609710</td>\n",
              "      <td>14339.872593</td>\n",
              "      <td>...</td>\n",
              "      <td>887342.520120</td>\n",
              "      <td>-4.062938e+05</td>\n",
              "      <td>-248168.834620</td>\n",
              "      <td>-7958.639803</td>\n",
              "      <td>-4.361475e+06</td>\n",
              "      <td>-257.724275</td>\n",
              "      <td>3.107987e+05</td>\n",
              "      <td>50104.604844</td>\n",
              "      <td>-225.926753</td>\n",
              "      <td>5</td>\n",
              "    </tr>\n",
              "    <tr>\n",
              "      <th>3</th>\n",
              "      <td>91.062226</td>\n",
              "      <td>-87.201281</td>\n",
              "      <td>-83.549423</td>\n",
              "      <td>-177.823199</td>\n",
              "      <td>-144.197687</td>\n",
              "      <td>-16616.398077</td>\n",
              "      <td>30.904988</td>\n",
              "      <td>-994.430982</td>\n",
              "      <td>-418.581383</td>\n",
              "      <td>2179.844249</td>\n",
              "      <td>...</td>\n",
              "      <td>-286938.774096</td>\n",
              "      <td>-2.493297e+06</td>\n",
              "      <td>-58026.544280</td>\n",
              "      <td>7673.429635</td>\n",
              "      <td>-3.175762e+05</td>\n",
              "      <td>1339.701934</td>\n",
              "      <td>-4.014052e+05</td>\n",
              "      <td>9414.605559</td>\n",
              "      <td>510.005904</td>\n",
              "      <td>2</td>\n",
              "    </tr>\n",
              "    <tr>\n",
              "      <th>4</th>\n",
              "      <td>-222.887856</td>\n",
              "      <td>-128.185634</td>\n",
              "      <td>-1054.410539</td>\n",
              "      <td>-4039.340623</td>\n",
              "      <td>113.384258</td>\n",
              "      <td>-100.535098</td>\n",
              "      <td>-225.664434</td>\n",
              "      <td>-4691.428044</td>\n",
              "      <td>-212.522834</td>\n",
              "      <td>-25966.053643</td>\n",
              "      <td>...</td>\n",
              "      <td>338399.469401</td>\n",
              "      <td>-3.899652e+06</td>\n",
              "      <td>501438.458669</td>\n",
              "      <td>1375.408163</td>\n",
              "      <td>-4.624358e+06</td>\n",
              "      <td>-977.193223</td>\n",
              "      <td>7.671711e+05</td>\n",
              "      <td>3707.134463</td>\n",
              "      <td>378.345297</td>\n",
              "      <td>3</td>\n",
              "    </tr>\n",
              "  </tbody>\n",
              "</table>\n",
              "<p>5 rows × 501 columns</p>\n",
              "</div>\n",
              "      <button class=\"colab-df-convert\" onclick=\"convertToInteractive('df-8e57cd72-1295-4c82-b6b1-cc3c7cd2c61a')\"\n",
              "              title=\"Convert this dataframe to an interactive table.\"\n",
              "              style=\"display:none;\">\n",
              "        \n",
              "  <svg xmlns=\"http://www.w3.org/2000/svg\" height=\"24px\"viewBox=\"0 0 24 24\"\n",
              "       width=\"24px\">\n",
              "    <path d=\"M0 0h24v24H0V0z\" fill=\"none\"/>\n",
              "    <path d=\"M18.56 5.44l.94 2.06.94-2.06 2.06-.94-2.06-.94-.94-2.06-.94 2.06-2.06.94zm-11 1L8.5 8.5l.94-2.06 2.06-.94-2.06-.94L8.5 2.5l-.94 2.06-2.06.94zm10 10l.94 2.06.94-2.06 2.06-.94-2.06-.94-.94-2.06-.94 2.06-2.06.94z\"/><path d=\"M17.41 7.96l-1.37-1.37c-.4-.4-.92-.59-1.43-.59-.52 0-1.04.2-1.43.59L10.3 9.45l-7.72 7.72c-.78.78-.78 2.05 0 2.83L4 21.41c.39.39.9.59 1.41.59.51 0 1.02-.2 1.41-.59l7.78-7.78 2.81-2.81c.8-.78.8-2.07 0-2.86zM5.41 20L4 18.59l7.72-7.72 1.47 1.35L5.41 20z\"/>\n",
              "  </svg>\n",
              "      </button>\n",
              "      \n",
              "  <style>\n",
              "    .colab-df-container {\n",
              "      display:flex;\n",
              "      flex-wrap:wrap;\n",
              "      gap: 12px;\n",
              "    }\n",
              "\n",
              "    .colab-df-convert {\n",
              "      background-color: #E8F0FE;\n",
              "      border: none;\n",
              "      border-radius: 50%;\n",
              "      cursor: pointer;\n",
              "      display: none;\n",
              "      fill: #1967D2;\n",
              "      height: 32px;\n",
              "      padding: 0 0 0 0;\n",
              "      width: 32px;\n",
              "    }\n",
              "\n",
              "    .colab-df-convert:hover {\n",
              "      background-color: #E2EBFA;\n",
              "      box-shadow: 0px 1px 2px rgba(60, 64, 67, 0.3), 0px 1px 3px 1px rgba(60, 64, 67, 0.15);\n",
              "      fill: #174EA6;\n",
              "    }\n",
              "\n",
              "    [theme=dark] .colab-df-convert {\n",
              "      background-color: #3B4455;\n",
              "      fill: #D2E3FC;\n",
              "    }\n",
              "\n",
              "    [theme=dark] .colab-df-convert:hover {\n",
              "      background-color: #434B5C;\n",
              "      box-shadow: 0px 1px 3px 1px rgba(0, 0, 0, 0.15);\n",
              "      filter: drop-shadow(0px 1px 2px rgba(0, 0, 0, 0.3));\n",
              "      fill: #FFFFFF;\n",
              "    }\n",
              "  </style>\n",
              "\n",
              "      <script>\n",
              "        const buttonEl =\n",
              "          document.querySelector('#df-8e57cd72-1295-4c82-b6b1-cc3c7cd2c61a button.colab-df-convert');\n",
              "        buttonEl.style.display =\n",
              "          google.colab.kernel.accessAllowed ? 'block' : 'none';\n",
              "\n",
              "        async function convertToInteractive(key) {\n",
              "          const element = document.querySelector('#df-8e57cd72-1295-4c82-b6b1-cc3c7cd2c61a');\n",
              "          const dataTable =\n",
              "            await google.colab.kernel.invokeFunction('convertToInteractive',\n",
              "                                                     [key], {});\n",
              "          if (!dataTable) return;\n",
              "\n",
              "          const docLinkHtml = 'Like what you see? Visit the ' +\n",
              "            '<a target=\"_blank\" href=https://colab.research.google.com/notebooks/data_table.ipynb>data table notebook</a>'\n",
              "            + ' to learn more about interactive tables.';\n",
              "          element.innerHTML = '';\n",
              "          dataTable['output_type'] = 'display_data';\n",
              "          await google.colab.output.renderOutput(dataTable, element);\n",
              "          const docLink = document.createElement('div');\n",
              "          docLink.innerHTML = docLinkHtml;\n",
              "          element.appendChild(docLink);\n",
              "        }\n",
              "      </script>\n",
              "    </div>\n",
              "  </div>\n",
              "  "
            ]
          },
          "metadata": {},
          "execution_count": 99
        }
      ]
    },
    {
      "cell_type": "markdown",
      "source": [
        "## Train-test split"
      ],
      "metadata": {
        "id": "MxZ0UMmzkUac"
      }
    },
    {
      "cell_type": "code",
      "execution_count": null,
      "metadata": {
        "id": "0ybaL4eCEWdq"
      },
      "outputs": [],
      "source": [
        "train_set, test_set = train_test_split(codealong_df,\n",
        "                                       test_size=0.2,\n",
        "                                       random_state=123)\n",
        "\n",
        "train_X = train_set.drop(columns=\"label\")\n",
        "train_y = train_set[\"label\"]\n",
        "\n",
        "test_X = test_set.drop(columns=\"label\")\n",
        "test_y = test_set[\"label\"]"
      ]
    },
    {
      "cell_type": "markdown",
      "metadata": {
        "id": "ZMtaRIMbEWdq"
      },
      "source": [
        "## Pre-processing"
      ]
    },
    {
      "cell_type": "code",
      "execution_count": null,
      "metadata": {
        "id": "Fzma6TW-EWdr"
      },
      "outputs": [],
      "source": [
        "# copy of train_X and test_X\n",
        "train_X_original = train_X.copy()\n",
        "test_X_original = test_X.copy()"
      ]
    },
    {
      "cell_type": "code",
      "execution_count": null,
      "metadata": {
        "id": "7092BBTCEWdr"
      },
      "outputs": [],
      "source": [
        "# Feature Scaling\n",
        "from sklearn.preprocessing import StandardScaler\n",
        "scaler = StandardScaler() # initiate transformer\n",
        "train_X = scaler.fit_transform(train_X) # scale data\n",
        "test_X = scaler.transform(test_X) # scale test set"
      ]
    },
    {
      "cell_type": "markdown",
      "metadata": {
        "id": "0y2hNHD_EWdr"
      },
      "source": [
        "## Modelling (iteration 1)"
      ]
    },
    {
      "cell_type": "code",
      "execution_count": null,
      "metadata": {
        "id": "YkOgdioBEWds"
      },
      "outputs": [],
      "source": [
        "# libraries\n",
        "from sklearn.neighbors import KNeighborsClassifier\n",
        "from sklearn.model_selection import RandomizedSearchCV\n",
        "from sklearn.metrics import accuracy_score\n",
        "from scipy.stats import randint\n",
        "import time"
      ]
    },
    {
      "cell_type": "code",
      "execution_count": null,
      "metadata": {
        "colab": {
          "base_uri": "https://localhost:8080/"
        },
        "id": "7cHCnyvlEWds",
        "outputId": "8a239853-0c47-4aa2-f551-a26a040b15fd"
      },
      "outputs": [
        {
          "output_type": "stream",
          "name": "stdout",
          "text": [
            "--- 140.0651183128357 seconds ---\n",
            "0.81\n"
          ]
        }
      ],
      "source": [
        "start_time = time.time()\n",
        "neigh1 = KNeighborsClassifier()\n",
        "\n",
        "param_distribs={\"n_neighbors\": randint(low=3, high=30),\n",
        "                \"weights\":[\"uniform\", \"distance\"],\n",
        "                \"p\":[1,2]}\n",
        "\n",
        "neigh1_search = RandomizedSearchCV(neigh1,\n",
        "                                   param_distribs,\n",
        "                                   scoring=\"accuracy\",\n",
        "                                   n_iter=50,\n",
        "                                   cv=5,\n",
        "                                   n_jobs=4,\n",
        "                                   random_state=123)\n",
        "\n",
        "neigh1_search.fit(train_X, train_y)\n",
        "\n",
        "print(\"--- %s seconds ---\" % (time.time() - start_time))\n",
        "print(round(neigh1_search.best_score_, 2))"
      ]
    },
    {
      "cell_type": "code",
      "execution_count": null,
      "metadata": {
        "jupyter": {
          "outputs_hidden": true,
          "source_hidden": true
        },
        "colab": {
          "base_uri": "https://localhost:8080/"
        },
        "id": "oMkTERzVEWds",
        "outputId": "7a6fe1e3-3580-4e13-a403-2c615f814d25"
      },
      "outputs": [
        {
          "output_type": "stream",
          "name": "stdout",
          "text": [
            "status\n",
            "CPU times: user 609 µs, sys: 0 ns, total: 609 µs\n",
            "Wall time: 525 µs\n"
          ]
        }
      ],
      "source": [
        "%%time\n",
        "\n",
        "print(\"status\")"
      ]
    },
    {
      "cell_type": "markdown",
      "metadata": {
        "id": "C3hjsphfEWdt"
      },
      "source": [
        "## PCA"
      ]
    },
    {
      "cell_type": "code",
      "execution_count": null,
      "metadata": {
        "id": "O0MuyvI5EWdt"
      },
      "outputs": [],
      "source": [
        "from sklearn.decomposition import PCA\n",
        "\n",
        "pca = PCA(n_components=10) # pick number of components \n",
        "X_reduced = pca.fit_transform(train_X)"
      ]
    },
    {
      "cell_type": "code",
      "execution_count": null,
      "metadata": {
        "scrolled": true,
        "id": "98MAdLUZEWdt",
        "outputId": "39a5d7bb-1a4c-4f4f-de85-8c2cc192311b",
        "colab": {
          "base_uri": "https://localhost:8080/"
        }
      },
      "outputs": [
        {
          "output_type": "execute_result",
          "data": {
            "text/plain": [
              "(4000, 10)"
            ]
          },
          "metadata": {},
          "execution_count": 107
        }
      ],
      "source": [
        "X_reduced.shape"
      ]
    },
    {
      "cell_type": "code",
      "execution_count": null,
      "metadata": {
        "jupyter": {
          "outputs_hidden": true
        },
        "id": "yAU2E_39EWdt",
        "outputId": "633254e1-27d4-4c95-ac5f-7e6276985465",
        "colab": {
          "base_uri": "https://localhost:8080/",
          "height": 424
        }
      },
      "outputs": [
        {
          "output_type": "execute_result",
          "data": {
            "text/plain": [
              "             0         1         2         3         4         5         6  \\\n",
              "0     0.474378  1.495384 -1.384758  1.224221  1.379756 -1.232562  2.042062   \n",
              "1    -2.146726  2.564888  0.971586  1.974589  3.133925 -4.089445  0.838593   \n",
              "2     2.774196 -1.471876  3.468066 -0.888831  0.948576 -2.187903  0.492279   \n",
              "3    -3.195604 -0.443886  0.614868  0.224578 -2.056785 -0.243281 -2.404725   \n",
              "4    -1.499912  8.937619  2.732485 -0.214050  0.279504  0.567841  0.870891   \n",
              "...        ...       ...       ...       ...       ...       ...       ...   \n",
              "3995 -0.190452 -1.297502 -2.219376  0.659012  0.466514  1.386602  0.861127   \n",
              "3996  1.857409 -1.865625 -0.534807  0.975394 -0.587814  2.583903  1.167899   \n",
              "3997  0.057728  0.913060 -1.688635 -0.940390  0.014636  2.678467  0.445060   \n",
              "3998  2.523335  0.426509 -1.615941  2.110021  2.962678 -2.247488  0.524154   \n",
              "3999  0.705136  4.625228  2.212190 -0.384891 -2.419528  2.464013  3.931285   \n",
              "\n",
              "             7         8         9  \n",
              "0    -1.166930  0.342210 -1.346279  \n",
              "1     3.831320  2.346459  2.099490  \n",
              "2    -1.248252  4.510785  0.156791  \n",
              "3    -3.118202 -1.996840 -0.486170  \n",
              "4    -1.887281 -3.260786 -1.141677  \n",
              "...        ...       ...       ...  \n",
              "3995 -2.158350  0.759139 -1.415586  \n",
              "3996 -0.744895  1.847040 -1.674240  \n",
              "3997 -2.445845  1.655947  0.000635  \n",
              "3998 -0.560574  0.376524  0.344047  \n",
              "3999  3.177240 -1.571161  1.768529  \n",
              "\n",
              "[4000 rows x 10 columns]"
            ],
            "text/html": [
              "\n",
              "  <div id=\"df-39d9f704-25d3-48c8-9645-6d2d412322b9\">\n",
              "    <div class=\"colab-df-container\">\n",
              "      <div>\n",
              "<style scoped>\n",
              "    .dataframe tbody tr th:only-of-type {\n",
              "        vertical-align: middle;\n",
              "    }\n",
              "\n",
              "    .dataframe tbody tr th {\n",
              "        vertical-align: top;\n",
              "    }\n",
              "\n",
              "    .dataframe thead th {\n",
              "        text-align: right;\n",
              "    }\n",
              "</style>\n",
              "<table border=\"1\" class=\"dataframe\">\n",
              "  <thead>\n",
              "    <tr style=\"text-align: right;\">\n",
              "      <th></th>\n",
              "      <th>0</th>\n",
              "      <th>1</th>\n",
              "      <th>2</th>\n",
              "      <th>3</th>\n",
              "      <th>4</th>\n",
              "      <th>5</th>\n",
              "      <th>6</th>\n",
              "      <th>7</th>\n",
              "      <th>8</th>\n",
              "      <th>9</th>\n",
              "    </tr>\n",
              "  </thead>\n",
              "  <tbody>\n",
              "    <tr>\n",
              "      <th>0</th>\n",
              "      <td>0.474378</td>\n",
              "      <td>1.495384</td>\n",
              "      <td>-1.384758</td>\n",
              "      <td>1.224221</td>\n",
              "      <td>1.379756</td>\n",
              "      <td>-1.232562</td>\n",
              "      <td>2.042062</td>\n",
              "      <td>-1.166930</td>\n",
              "      <td>0.342210</td>\n",
              "      <td>-1.346279</td>\n",
              "    </tr>\n",
              "    <tr>\n",
              "      <th>1</th>\n",
              "      <td>-2.146726</td>\n",
              "      <td>2.564888</td>\n",
              "      <td>0.971586</td>\n",
              "      <td>1.974589</td>\n",
              "      <td>3.133925</td>\n",
              "      <td>-4.089445</td>\n",
              "      <td>0.838593</td>\n",
              "      <td>3.831320</td>\n",
              "      <td>2.346459</td>\n",
              "      <td>2.099490</td>\n",
              "    </tr>\n",
              "    <tr>\n",
              "      <th>2</th>\n",
              "      <td>2.774196</td>\n",
              "      <td>-1.471876</td>\n",
              "      <td>3.468066</td>\n",
              "      <td>-0.888831</td>\n",
              "      <td>0.948576</td>\n",
              "      <td>-2.187903</td>\n",
              "      <td>0.492279</td>\n",
              "      <td>-1.248252</td>\n",
              "      <td>4.510785</td>\n",
              "      <td>0.156791</td>\n",
              "    </tr>\n",
              "    <tr>\n",
              "      <th>3</th>\n",
              "      <td>-3.195604</td>\n",
              "      <td>-0.443886</td>\n",
              "      <td>0.614868</td>\n",
              "      <td>0.224578</td>\n",
              "      <td>-2.056785</td>\n",
              "      <td>-0.243281</td>\n",
              "      <td>-2.404725</td>\n",
              "      <td>-3.118202</td>\n",
              "      <td>-1.996840</td>\n",
              "      <td>-0.486170</td>\n",
              "    </tr>\n",
              "    <tr>\n",
              "      <th>4</th>\n",
              "      <td>-1.499912</td>\n",
              "      <td>8.937619</td>\n",
              "      <td>2.732485</td>\n",
              "      <td>-0.214050</td>\n",
              "      <td>0.279504</td>\n",
              "      <td>0.567841</td>\n",
              "      <td>0.870891</td>\n",
              "      <td>-1.887281</td>\n",
              "      <td>-3.260786</td>\n",
              "      <td>-1.141677</td>\n",
              "    </tr>\n",
              "    <tr>\n",
              "      <th>...</th>\n",
              "      <td>...</td>\n",
              "      <td>...</td>\n",
              "      <td>...</td>\n",
              "      <td>...</td>\n",
              "      <td>...</td>\n",
              "      <td>...</td>\n",
              "      <td>...</td>\n",
              "      <td>...</td>\n",
              "      <td>...</td>\n",
              "      <td>...</td>\n",
              "    </tr>\n",
              "    <tr>\n",
              "      <th>3995</th>\n",
              "      <td>-0.190452</td>\n",
              "      <td>-1.297502</td>\n",
              "      <td>-2.219376</td>\n",
              "      <td>0.659012</td>\n",
              "      <td>0.466514</td>\n",
              "      <td>1.386602</td>\n",
              "      <td>0.861127</td>\n",
              "      <td>-2.158350</td>\n",
              "      <td>0.759139</td>\n",
              "      <td>-1.415586</td>\n",
              "    </tr>\n",
              "    <tr>\n",
              "      <th>3996</th>\n",
              "      <td>1.857409</td>\n",
              "      <td>-1.865625</td>\n",
              "      <td>-0.534807</td>\n",
              "      <td>0.975394</td>\n",
              "      <td>-0.587814</td>\n",
              "      <td>2.583903</td>\n",
              "      <td>1.167899</td>\n",
              "      <td>-0.744895</td>\n",
              "      <td>1.847040</td>\n",
              "      <td>-1.674240</td>\n",
              "    </tr>\n",
              "    <tr>\n",
              "      <th>3997</th>\n",
              "      <td>0.057728</td>\n",
              "      <td>0.913060</td>\n",
              "      <td>-1.688635</td>\n",
              "      <td>-0.940390</td>\n",
              "      <td>0.014636</td>\n",
              "      <td>2.678467</td>\n",
              "      <td>0.445060</td>\n",
              "      <td>-2.445845</td>\n",
              "      <td>1.655947</td>\n",
              "      <td>0.000635</td>\n",
              "    </tr>\n",
              "    <tr>\n",
              "      <th>3998</th>\n",
              "      <td>2.523335</td>\n",
              "      <td>0.426509</td>\n",
              "      <td>-1.615941</td>\n",
              "      <td>2.110021</td>\n",
              "      <td>2.962678</td>\n",
              "      <td>-2.247488</td>\n",
              "      <td>0.524154</td>\n",
              "      <td>-0.560574</td>\n",
              "      <td>0.376524</td>\n",
              "      <td>0.344047</td>\n",
              "    </tr>\n",
              "    <tr>\n",
              "      <th>3999</th>\n",
              "      <td>0.705136</td>\n",
              "      <td>4.625228</td>\n",
              "      <td>2.212190</td>\n",
              "      <td>-0.384891</td>\n",
              "      <td>-2.419528</td>\n",
              "      <td>2.464013</td>\n",
              "      <td>3.931285</td>\n",
              "      <td>3.177240</td>\n",
              "      <td>-1.571161</td>\n",
              "      <td>1.768529</td>\n",
              "    </tr>\n",
              "  </tbody>\n",
              "</table>\n",
              "<p>4000 rows × 10 columns</p>\n",
              "</div>\n",
              "      <button class=\"colab-df-convert\" onclick=\"convertToInteractive('df-39d9f704-25d3-48c8-9645-6d2d412322b9')\"\n",
              "              title=\"Convert this dataframe to an interactive table.\"\n",
              "              style=\"display:none;\">\n",
              "        \n",
              "  <svg xmlns=\"http://www.w3.org/2000/svg\" height=\"24px\"viewBox=\"0 0 24 24\"\n",
              "       width=\"24px\">\n",
              "    <path d=\"M0 0h24v24H0V0z\" fill=\"none\"/>\n",
              "    <path d=\"M18.56 5.44l.94 2.06.94-2.06 2.06-.94-2.06-.94-.94-2.06-.94 2.06-2.06.94zm-11 1L8.5 8.5l.94-2.06 2.06-.94-2.06-.94L8.5 2.5l-.94 2.06-2.06.94zm10 10l.94 2.06.94-2.06 2.06-.94-2.06-.94-.94-2.06-.94 2.06-2.06.94z\"/><path d=\"M17.41 7.96l-1.37-1.37c-.4-.4-.92-.59-1.43-.59-.52 0-1.04.2-1.43.59L10.3 9.45l-7.72 7.72c-.78.78-.78 2.05 0 2.83L4 21.41c.39.39.9.59 1.41.59.51 0 1.02-.2 1.41-.59l7.78-7.78 2.81-2.81c.8-.78.8-2.07 0-2.86zM5.41 20L4 18.59l7.72-7.72 1.47 1.35L5.41 20z\"/>\n",
              "  </svg>\n",
              "      </button>\n",
              "      \n",
              "  <style>\n",
              "    .colab-df-container {\n",
              "      display:flex;\n",
              "      flex-wrap:wrap;\n",
              "      gap: 12px;\n",
              "    }\n",
              "\n",
              "    .colab-df-convert {\n",
              "      background-color: #E8F0FE;\n",
              "      border: none;\n",
              "      border-radius: 50%;\n",
              "      cursor: pointer;\n",
              "      display: none;\n",
              "      fill: #1967D2;\n",
              "      height: 32px;\n",
              "      padding: 0 0 0 0;\n",
              "      width: 32px;\n",
              "    }\n",
              "\n",
              "    .colab-df-convert:hover {\n",
              "      background-color: #E2EBFA;\n",
              "      box-shadow: 0px 1px 2px rgba(60, 64, 67, 0.3), 0px 1px 3px 1px rgba(60, 64, 67, 0.15);\n",
              "      fill: #174EA6;\n",
              "    }\n",
              "\n",
              "    [theme=dark] .colab-df-convert {\n",
              "      background-color: #3B4455;\n",
              "      fill: #D2E3FC;\n",
              "    }\n",
              "\n",
              "    [theme=dark] .colab-df-convert:hover {\n",
              "      background-color: #434B5C;\n",
              "      box-shadow: 0px 1px 3px 1px rgba(0, 0, 0, 0.15);\n",
              "      filter: drop-shadow(0px 1px 2px rgba(0, 0, 0, 0.3));\n",
              "      fill: #FFFFFF;\n",
              "    }\n",
              "  </style>\n",
              "\n",
              "      <script>\n",
              "        const buttonEl =\n",
              "          document.querySelector('#df-39d9f704-25d3-48c8-9645-6d2d412322b9 button.colab-df-convert');\n",
              "        buttonEl.style.display =\n",
              "          google.colab.kernel.accessAllowed ? 'block' : 'none';\n",
              "\n",
              "        async function convertToInteractive(key) {\n",
              "          const element = document.querySelector('#df-39d9f704-25d3-48c8-9645-6d2d412322b9');\n",
              "          const dataTable =\n",
              "            await google.colab.kernel.invokeFunction('convertToInteractive',\n",
              "                                                     [key], {});\n",
              "          if (!dataTable) return;\n",
              "\n",
              "          const docLinkHtml = 'Like what you see? Visit the ' +\n",
              "            '<a target=\"_blank\" href=https://colab.research.google.com/notebooks/data_table.ipynb>data table notebook</a>'\n",
              "            + ' to learn more about interactive tables.';\n",
              "          element.innerHTML = '';\n",
              "          dataTable['output_type'] = 'display_data';\n",
              "          await google.colab.output.renderOutput(dataTable, element);\n",
              "          const docLink = document.createElement('div');\n",
              "          docLink.innerHTML = docLinkHtml;\n",
              "          element.appendChild(docLink);\n",
              "        }\n",
              "      </script>\n",
              "    </div>\n",
              "  </div>\n",
              "  "
            ]
          },
          "metadata": {},
          "execution_count": 108
        }
      ],
      "source": [
        "pd.DataFrame(X_reduced)"
      ]
    },
    {
      "cell_type": "markdown",
      "metadata": {
        "id": "ZtgrZ_RGEWdu"
      },
      "source": [
        "## Modelling (iteration 2)"
      ]
    },
    {
      "cell_type": "code",
      "execution_count": null,
      "metadata": {
        "id": "YJ7Q1oUQEWdu",
        "outputId": "e72fe6ed-ac0c-48b1-ea60-1a87e3904412",
        "colab": {
          "base_uri": "https://localhost:8080/"
        }
      },
      "outputs": [
        {
          "output_type": "stream",
          "name": "stdout",
          "text": [
            "--- 15.746641397476196 seconds ---\n",
            "0.29\n"
          ]
        }
      ],
      "source": [
        "start_time = time.time()\n",
        "neigh2 = KNeighborsClassifier()\n",
        "\n",
        "neigh2_search = RandomizedSearchCV(neigh2,\n",
        "                                   param_distribs,\n",
        "                                   scoring=\"accuracy\",\n",
        "                                   n_iter=50,\n",
        "                                   cv=5,\n",
        "                                   n_jobs=4,\n",
        "                                   random_state=123)\n",
        "\n",
        "neigh2_search.fit(X_reduced, train_y)\n",
        "\n",
        "print(\"--- %s seconds ---\" % (time.time() - start_time))\n",
        "print(round(neigh2_search.best_score_, 2))"
      ]
    },
    {
      "cell_type": "markdown",
      "metadata": {
        "id": "X7YdmOquEWdu"
      },
      "source": [
        "### Picking the right number of components"
      ]
    },
    {
      "cell_type": "code",
      "execution_count": null,
      "metadata": {
        "id": "JvGHvpkoEWdv"
      },
      "outputs": [],
      "source": [
        "from sklearn.decomposition import PCA\n",
        "\n",
        "pca = PCA(n_components=None) # pick number of components\n",
        "X_reduced = pca.fit_transform(train_X)"
      ]
    },
    {
      "cell_type": "code",
      "execution_count": null,
      "metadata": {
        "jupyter": {
          "outputs_hidden": true
        },
        "id": "Ria45wIaEWdv",
        "outputId": "655bacd0-0c15-40fc-b1d2-609592a84e52",
        "colab": {
          "base_uri": "https://localhost:8080/"
        }
      },
      "outputs": [
        {
          "output_type": "execute_result",
          "data": {
            "text/plain": [
              "array([1.12, 1.04, 1.01, 0.99, 0.97, 0.93, 0.93, 0.92, 0.91, 0.89, 0.88,\n",
              "       0.87, 0.86, 0.85, 0.84, 0.82, 0.81, 0.8 , 0.78, 0.78, 0.77, 0.76,\n",
              "       0.75, 0.74, 0.73, 0.73, 0.72, 0.71, 0.7 , 0.69, 0.68, 0.67, 0.66,\n",
              "       0.66, 0.65, 0.64, 0.64, 0.63, 0.62, 0.62, 0.6 , 0.6 , 0.59, 0.59,\n",
              "       0.58, 0.58, 0.57, 0.57, 0.56, 0.55, 0.55, 0.55, 0.54, 0.54, 0.53,\n",
              "       0.53, 0.52, 0.52, 0.52, 0.51, 0.51, 0.5 , 0.49, 0.49, 0.49, 0.48,\n",
              "       0.47, 0.47, 0.47, 0.46, 0.46, 0.45, 0.45, 0.44, 0.44, 0.43, 0.43,\n",
              "       0.43, 0.42, 0.42, 0.42, 0.41, 0.41, 0.41, 0.4 , 0.4 , 0.4 , 0.39,\n",
              "       0.39, 0.39, 0.38, 0.38, 0.37, 0.37, 0.37, 0.37, 0.37, 0.36, 0.36,\n",
              "       0.35, 0.35, 0.35, 0.34, 0.34, 0.33, 0.33, 0.33, 0.33, 0.33, 0.32,\n",
              "       0.32, 0.32, 0.32, 0.31, 0.31, 0.31, 0.31, 0.31, 0.3 , 0.3 , 0.3 ,\n",
              "       0.3 , 0.29, 0.29, 0.29, 0.29, 0.29, 0.28, 0.28, 0.28, 0.28, 0.28,\n",
              "       0.27, 0.27, 0.27, 0.27, 0.27, 0.27, 0.26, 0.26, 0.26, 0.26, 0.25,\n",
              "       0.25, 0.25, 0.25, 0.25, 0.25, 0.25, 0.24, 0.24, 0.24, 0.24, 0.24,\n",
              "       0.24, 0.24, 0.24, 0.23, 0.23, 0.23, 0.23, 0.23, 0.23, 0.23, 0.22,\n",
              "       0.22, 0.22, 0.22, 0.22, 0.22, 0.22, 0.22, 0.21, 0.21, 0.21, 0.21,\n",
              "       0.21, 0.21, 0.21, 0.21, 0.2 , 0.2 , 0.2 , 0.2 , 0.2 , 0.2 , 0.2 ,\n",
              "       0.2 , 0.2 , 0.2 , 0.2 , 0.19, 0.19, 0.19, 0.19, 0.19, 0.19, 0.19,\n",
              "       0.19, 0.19, 0.18, 0.18, 0.18, 0.18, 0.18, 0.18, 0.18, 0.18, 0.18,\n",
              "       0.18, 0.18, 0.17, 0.17, 0.17, 0.17, 0.17, 0.17, 0.17, 0.17, 0.17,\n",
              "       0.17, 0.17, 0.16, 0.16, 0.16, 0.16, 0.16, 0.16, 0.16, 0.16, 0.16,\n",
              "       0.16, 0.15, 0.15, 0.15, 0.15, 0.15, 0.15, 0.15, 0.15, 0.15, 0.15,\n",
              "       0.15, 0.14, 0.14, 0.14, 0.14, 0.14, 0.14, 0.14, 0.14, 0.14, 0.14,\n",
              "       0.14, 0.14, 0.13, 0.13, 0.13, 0.13, 0.13, 0.13, 0.13, 0.13, 0.12,\n",
              "       0.12, 0.12, 0.12, 0.12, 0.12, 0.12, 0.12, 0.12, 0.11, 0.11, 0.11,\n",
              "       0.11, 0.11, 0.11, 0.11, 0.11, 0.11, 0.11, 0.11, 0.1 , 0.1 , 0.1 ,\n",
              "       0.1 , 0.1 , 0.1 , 0.1 , 0.1 , 0.1 , 0.1 , 0.09, 0.09, 0.09, 0.09,\n",
              "       0.09, 0.09, 0.09, 0.09, 0.09, 0.09, 0.09, 0.08, 0.08, 0.08, 0.08,\n",
              "       0.08, 0.08, 0.08, 0.07, 0.07, 0.07, 0.07, 0.07, 0.07, 0.  , 0.  ,\n",
              "       0.  , 0.  , 0.  , 0.  , 0.  , 0.  , 0.  , 0.  , 0.  , 0.  , 0.  ,\n",
              "       0.  , 0.  , 0.  , 0.  , 0.  , 0.  , 0.  , 0.  , 0.  , 0.  , 0.  ,\n",
              "       0.  , 0.  , 0.  , 0.  , 0.  , 0.  , 0.  , 0.  , 0.  , 0.  , 0.  ,\n",
              "       0.  , 0.  , 0.  , 0.  , 0.  , 0.  , 0.  , 0.  , 0.  , 0.  , 0.  ,\n",
              "       0.  , 0.  , 0.  , 0.  , 0.  , 0.  , 0.  , 0.  , 0.  , 0.  , 0.  ,\n",
              "       0.  , 0.  , 0.  , 0.  , 0.  , 0.  , 0.  , 0.  , 0.  , 0.  , 0.  ,\n",
              "       0.  , 0.  , 0.  , 0.  , 0.  , 0.  , 0.  , 0.  , 0.  , 0.  , 0.  ,\n",
              "       0.  , 0.  , 0.  , 0.  , 0.  , 0.  , 0.  , 0.  , 0.  , 0.  , 0.  ,\n",
              "       0.  , 0.  , 0.  , 0.  , 0.  , 0.  , 0.  , 0.  , 0.  , 0.  , 0.  ,\n",
              "       0.  , 0.  , 0.  , 0.  , 0.  , 0.  , 0.  , 0.  , 0.  , 0.  , 0.  ,\n",
              "       0.  , 0.  , 0.  , 0.  , 0.  , 0.  , 0.  , 0.  , 0.  , 0.  , 0.  ,\n",
              "       0.  , 0.  , 0.  , 0.  , 0.  , 0.  , 0.  , 0.  , 0.  , 0.  , 0.  ,\n",
              "       0.  , 0.  , 0.  , 0.  , 0.  , 0.  , 0.  , 0.  , 0.  , 0.  , 0.  ,\n",
              "       0.  , 0.  , 0.  , 0.  , 0.  , 0.  , 0.  , 0.  , 0.  , 0.  , 0.  ,\n",
              "       0.  , 0.  , 0.  , 0.  , 0.  , 0.  , 0.  , 0.  , 0.  , 0.  , 0.  ,\n",
              "       0.  , 0.  , 0.  , 0.  , 0.  , 0.  , 0.  , 0.  , 0.  , 0.  , 0.  ,\n",
              "       0.  , 0.  , 0.  , 0.  , 0.  ])"
            ]
          },
          "metadata": {},
          "execution_count": 111
        }
      ],
      "source": [
        "np.round(pca.explained_variance_ratio_, 4)*100"
      ]
    },
    {
      "cell_type": "code",
      "execution_count": null,
      "metadata": {
        "id": "JNs4OygzEWdv"
      },
      "outputs": [],
      "source": [
        "# compute the cumulative sum of explained variance ratio\n",
        "\n",
        "# create a plot to visualize the cumulative sum of explained variance\n",
        "# as the number of principal components increases\n",
        "\n",
        "# How much variance do you want to keep in the data?\n",
        "# How many components (dimensions) should you drop, considering computing power, the curse of dimensionality, overfitting..?"
      ]
    },
    {
      "cell_type": "code",
      "execution_count": null,
      "metadata": {
        "id": "QhbjYhFOEWdw",
        "outputId": "a667c5c6-ea42-4ef2-8b6f-0e4f1ab05489",
        "colab": {
          "base_uri": "https://localhost:8080/",
          "height": 265
        }
      },
      "outputs": [
        {
          "output_type": "display_data",
          "data": {
            "text/plain": [
              "<Figure size 576x288 with 1 Axes>"
            ],
            "image/png": "[encoded data removed]"
          },
          "metadata": {
            "needs_background": "light"
          }
        }
      ],
      "source": [
        "cumsum = np.cumsum(pca.explained_variance_ratio_)\n",
        "\n",
        "fig, ax = plt.subplots(figsize=(8, 4))\n",
        "ax.plot(cumsum, label = \"Explained variance\");"
      ]
    },
    {
      "cell_type": "code",
      "execution_count": null,
      "metadata": {
        "id": "Sp9z418WEWdw",
        "outputId": "cadf60d5-3a20-422e-cea6-d91b1f6b8dd0",
        "colab": {
          "base_uri": "https://localhost:8080/",
          "height": 388
        }
      },
      "outputs": [
        {
          "output_type": "display_data",
          "data": {
            "text/plain": [
              "<Figure size 864x432 with 1 Axes>"
            ],
            "image/png": "[encoded data removed]"
          },
          "metadata": {
            "needs_background": "light"
          }
        }
      ],
      "source": [
        "import matplotlib.pyplot as plt\n",
        "\n",
        "cumsum = np.cumsum(pca.explained_variance_ratio_)\n",
        "d = np.argmax(cumsum >= 0.95)\n",
        "\n",
        "# create first figure and ax\n",
        "fig, ax = plt.subplots(figsize=(12, 6))\n",
        "ax.plot(cumsum, label = \"Explained variance\", c=\"chocolate\")\n",
        "\n",
        "ax.annotate(\"Elbow?\", xy=(270, 0.92), xytext=(280, 0.75),\n",
        "             arrowprops=dict(arrowstyle=\"->\"), fontsize=16)\n",
        "\n",
        "ax.plot([d, d], [0, 0.95], \"k:\")\n",
        "ax.plot([0, d], [0.95, 0.95], \"k:\")\n",
        "ax.plot(d, 0.95, \"ko\")\n",
        "\n",
        "ax.set_ylabel(\"Explained Variance\")\n",
        "ax.set_xlabel(\"Number of Components\");"
      ]
    },
    {
      "cell_type": "markdown",
      "metadata": {
        "id": "D1hnPAYQEWdx"
      },
      "source": [
        "# Pre-processing + model pipeline"
      ]
    },
    {
      "cell_type": "markdown",
      "metadata": {
        "id": "4v8cAHnvEWdx"
      },
      "source": [
        "`make_pipeline()` is almost identical to `Pipeline()`: you can call as many transformers as you want (you don't even need to initialize them before) sequentially. Then, you can use fit(), transform() or fit_transform() as if it was only a single transformer.\n",
        "\n",
        "`make_pipeline()` does't require explicit naming of the steps (generates the names automatically) - it can be used when we don't care about the names and simply want to create a quick pipeline.\n",
        "\n",
        "In both cases, a model can be added at the end of the pipeline. You can then call the `fit()` method to the pipeline to apply all the transformations and fit the model, passing the X and y of the training set as arguments.\n",
        "\n",
        "A pipeline with a model also has the `predict()` method available. Passing an X to that method (either the train or the test) will transform the data and output predictions."
      ]
    },
    {
      "cell_type": "markdown",
      "metadata": {
        "id": "pnMiXdteEWdx"
      },
      "source": [
        "#### Pre-processing pipeline"
      ]
    },
    {
      "cell_type": "code",
      "execution_count": null,
      "metadata": {
        "id": "pi6Wvo09EWdx"
      },
      "outputs": [],
      "source": [
        "train_X_2 = train_X_original.copy()\n",
        "test_X_2 = test_X_original.copy()"
      ]
    },
    {
      "cell_type": "code",
      "execution_count": null,
      "metadata": {
        "id": "Qvo48divEWdx"
      },
      "outputs": [],
      "source": [
        "from sklearn.pipeline import make_pipeline\n",
        "\n",
        "param_distribs={\"n_neighbors\": randint(low=3, high=30),\n",
        "                \"weights\":[\"uniform\", \"distance\"],\n",
        "                \"p\":[1,2]}\n",
        "\n",
        "neigh3_search = RandomizedSearchCV(KNeighborsClassifier(),\n",
        "                                   param_distribs,\n",
        "                                   scoring=\"accuracy\",\n",
        "                                   n_iter=50,\n",
        "                                   cv=5,\n",
        "                                   n_jobs=4,\n",
        "                                   random_state=123)\n",
        "\n",
        "\n",
        "model_pipeline = make_pipeline(StandardScaler(),\n",
        "                                 PCA(n_components=0.95),\n",
        "                                 neigh3_search)"
      ]
    },
    {
      "cell_type": "code",
      "execution_count": null,
      "metadata": {
        "id": "Wwuhit-uEWdy",
        "outputId": "4d27d197-1b84-46be-b2f4-71247db5bf77",
        "colab": {
          "base_uri": "https://localhost:8080/"
        }
      },
      "outputs": [
        {
          "output_type": "execute_result",
          "data": {
            "text/plain": [
              "Pipeline(steps=[('standardscaler', StandardScaler()),\n",
              "                ('pca', PCA(n_components=0.95)),\n",
              "                ('randomizedsearchcv',\n",
              "                 RandomizedSearchCV(cv=5, estimator=KNeighborsClassifier(),\n",
              "                                    n_iter=50, n_jobs=4,\n",
              "                                    param_distributions={'n_neighbors': <scipy.stats._distn_infrastructure.rv_frozen object at 0x7f3bbf3fa910>,\n",
              "                                                         'p': [1, 2],\n",
              "                                                         'weights': ['uniform',\n",
              "                                                                     'distance']},\n",
              "                                    random_state=123, scoring='accuracy'))])"
            ]
          },
          "metadata": {},
          "execution_count": 117
        }
      ],
      "source": [
        "model_pipeline.fit(train_X_2, train_y)"
      ]
    },
    {
      "cell_type": "markdown",
      "metadata": {
        "id": "uySDjxnREWdy"
      },
      "source": [
        "You can still access the randomized search cv scores, parameters..."
      ]
    },
    {
      "cell_type": "code",
      "execution_count": null,
      "metadata": {
        "id": "nSWEe28AEWdy",
        "outputId": "aef142b6-91f7-4d72-b289-bd2b5e4348da",
        "colab": {
          "base_uri": "https://localhost:8080/"
        }
      },
      "outputs": [
        {
          "output_type": "execute_result",
          "data": {
            "text/plain": [
              "0.8192499999999999"
            ]
          },
          "metadata": {},
          "execution_count": 118
        }
      ],
      "source": [
        "model_pipeline[\"randomizedsearchcv\"].best_score_"
      ]
    },
    {
      "cell_type": "code",
      "execution_count": null,
      "metadata": {
        "id": "Pjx5RAPIEWdy",
        "outputId": "61f28452-bf4f-4ef0-929d-201b2bf14591",
        "colab": {
          "base_uri": "https://localhost:8080/"
        }
      },
      "outputs": [
        {
          "output_type": "execute_result",
          "data": {
            "text/plain": [
              "{'n_neighbors': 28, 'p': 2, 'weights': 'uniform'}"
            ]
          },
          "metadata": {},
          "execution_count": 119
        }
      ],
      "source": [
        "model_pipeline[\"randomizedsearchcv\"].best_params_"
      ]
    },
    {
      "cell_type": "markdown",
      "metadata": {
        "id": "QPsUduUaEWdy"
      },
      "source": [
        "### Cross validation: tuning the parameters in the pipeline\n",
        "\n",
        "Some transformers in the pipeline"
      ]
    },
    {
      "cell_type": "code",
      "execution_count": null,
      "metadata": {
        "id": "E-b3yI56EWdz"
      },
      "outputs": [],
      "source": [
        "train_X_3 = train_X_original.copy()\n",
        "test_X_3 = test_X_original.copy()"
      ]
    },
    {
      "cell_type": "code",
      "execution_count": null,
      "metadata": {
        "id": "4u6UgXjjEWdz"
      },
      "outputs": [],
      "source": [
        "from sklearn.pipeline import Pipeline\n",
        "\n",
        "model_pipeline = Pipeline([(\"scaler\", StandardScaler()),\n",
        "                          (\"pca\", PCA()),\n",
        "                          (\"neigh\", KNeighborsClassifier())])\n",
        "\n",
        "param_grid = {\n",
        "    \"pca__n_components\": [10, 30, 50, 100],\n",
        "    \"neigh__n_neighbors\": [3, 15, 50, 80, 150]\n",
        "}"
      ]
    },
    {
      "cell_type": "code",
      "execution_count": null,
      "metadata": {
        "id": "sbTm-fVBEWdz"
      },
      "outputs": [],
      "source": [
        "neigh3_search = RandomizedSearchCV(model_pipeline,\n",
        "                                   param_grid,\n",
        "                                   scoring=\"accuracy\",\n",
        "                                   n_iter=10,\n",
        "                                   cv=5,\n",
        "                                   n_jobs=4,\n",
        "                                   random_state=123)"
      ]
    },
    {
      "cell_type": "code",
      "execution_count": null,
      "metadata": {
        "id": "NxT0pQFyEWdz",
        "outputId": "17fe96dc-1a4c-46f8-9c88-49d55e9d704a",
        "colab": {
          "base_uri": "https://localhost:8080/"
        }
      },
      "outputs": [
        {
          "output_type": "execute_result",
          "data": {
            "text/plain": [
              "RandomizedSearchCV(cv=5,\n",
              "                   estimator=Pipeline(steps=[('scaler', StandardScaler()),\n",
              "                                             ('pca', PCA()),\n",
              "                                             ('neigh',\n",
              "                                              KNeighborsClassifier())]),\n",
              "                   n_jobs=4,\n",
              "                   param_distributions={'neigh__n_neighbors': [3, 15, 50, 80,\n",
              "                                                               150],\n",
              "                                        'pca__n_components': [10, 30, 50, 100]},\n",
              "                   random_state=123, scoring='accuracy')"
            ]
          },
          "metadata": {},
          "execution_count": 123
        }
      ],
      "source": [
        "neigh3_search.fit(train_X_3, train_y)"
      ]
    },
    {
      "cell_type": "code",
      "execution_count": null,
      "metadata": {
        "id": "ib3ESVmVEWdz",
        "outputId": "ab00e656-47e5-4200-96fb-5c7ec70564e5",
        "colab": {
          "base_uri": "https://localhost:8080/"
        }
      },
      "outputs": [
        {
          "output_type": "execute_result",
          "data": {
            "text/plain": [
              "{'neigh__n_neighbors': 150, 'pca__n_components': 100}"
            ]
          },
          "metadata": {},
          "execution_count": 124
        }
      ],
      "source": [
        "neigh3_search.best_params_"
      ]
    },
    {
      "cell_type": "code",
      "execution_count": null,
      "metadata": {
        "id": "ApJyVjBAEWdz",
        "outputId": "b19d3b00-4814-4fb2-ee0f-5995d0fe8ec4",
        "colab": {
          "base_uri": "https://localhost:8080/"
        }
      },
      "outputs": [
        {
          "output_type": "execute_result",
          "data": {
            "text/plain": [
              "0.7137499999999999"
            ]
          },
          "metadata": {},
          "execution_count": 125
        }
      ],
      "source": [
        "neigh3_search.best_score_"
      ]
    },
    {
      "cell_type": "markdown",
      "metadata": {
        "id": "9yQL_MNfEWd0"
      },
      "source": [
        "## Practice: \n",
        "\n",
        "- Apply PCA to the Diamonds dataset.\n",
        "- Apply PCA to the Housing case study Pipeline.\n",
        "\n",
        "In both cases, tune the number of components and analyse whether the performance improves, stays stable or decreases."
      ]
    },
    {
      "cell_type": "code",
      "execution_count": null,
      "metadata": {
        "id": "kdltBI0QEWd0"
      },
      "outputs": [],
      "source": [
        ""
      ]
    }
  ],
  "metadata": {
    "kernelspec": {
      "display_name": "Python 3",
      "language": "python",
      "name": "python3"
    },
    "language_info": {
      "codemirror_mode": {
        "name": "ipython",
        "version": 3
      },
      "file_extension": ".py",
      "mimetype": "text/x-python",
      "name": "python",
      "nbconvert_exporter": "python",
      "pygments_lexer": "ipython3",
      "version": "3.8.5"
    },
    "toc": {
      "base_numbering": 1,
      "nav_menu": {},
      "number_sections": true,
      "sideBar": true,
      "skip_h1_title": false,
      "title_cell": "Table of Contents",
      "title_sidebar": "Contents",
      "toc_cell": false,
      "toc_position": {},
      "toc_section_display": true,
      "toc_window_display": false
    },
    "varInspector": {
      "cols": {
        "lenName": 16,
        "lenType": 16,
        "lenVar": 40
      },
      "kernels_config": {
        "python": {
          "delete_cmd_postfix": "",
          "delete_cmd_prefix": "del ",
          "library": "var_list.py",
          "varRefreshCmd": "print(var_dic_list())"
        },
        "r": {
          "delete_cmd_postfix": ") ",
          "delete_cmd_prefix": "rm(",
          "library": "var_list.r",
          "varRefreshCmd": "cat(var_dic_list()) "
        }
      },
      "types_to_exclude": [
        "module",
        "function",
        "builtin_function_or_method",
        "instance",
        "_Feature"
      ],
      "window_display": false
    },
    "colab": {
      "name": "PCA_codealong_Students.ipynb",
      "provenance": [],
      "collapsed_sections": []
    }
  },
  "nbformat": 4,
  "nbformat_minor": 0
}